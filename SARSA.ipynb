{
  "cells": [
    {
      "cell_type": "code",
      "execution_count": null,
      "id": "ilCdA3pPRkqz",
      "metadata": {
        "id": "ilCdA3pPRkqz"
      },
      "outputs": [],
      "source": [
        "#I (We) certify that the code and data in this assignment were generated independently, using only the tools and resources defined in the course and that I (we) did not receive any external help, coaching or contributions during the production of this work.\""
      ]
    },
    {
      "cell_type": "code",
      "execution_count": null,
      "id": "5b49025e",
      "metadata": {
        "colab": {
          "base_uri": "https://localhost:8080/"
        },
        "id": "5b49025e",
        "outputId": "e2c0c1fc-38dd-4d14-9a41-b748f408d3d5"
      },
      "outputs": [
        {
          "output_type": "stream",
          "name": "stdout",
          "text": [
            "Requirement already satisfied: gym in /usr/local/lib/python3.7/dist-packages (0.17.3)\n",
            "Requirement already satisfied: scipy in /usr/local/lib/python3.7/dist-packages (from gym) (1.4.1)\n",
            "Requirement already satisfied: cloudpickle<1.7.0,>=1.2.0 in /usr/local/lib/python3.7/dist-packages (from gym) (1.3.0)\n",
            "Requirement already satisfied: pyglet<=1.5.0,>=1.4.0 in /usr/local/lib/python3.7/dist-packages (from gym) (1.5.0)\n",
            "Requirement already satisfied: numpy>=1.10.4 in /usr/local/lib/python3.7/dist-packages (from gym) (1.21.6)\n",
            "Requirement already satisfied: future in /usr/local/lib/python3.7/dist-packages (from pyglet<=1.5.0,>=1.4.0->gym) (0.16.0)\n"
          ]
        }
      ],
      "source": [
        "!pip install gym"
      ]
    },
    {
      "cell_type": "markdown",
      "id": "sK-Vh0ZFg7FK",
      "metadata": {
        "id": "sK-Vh0ZFg7FK"
      },
      "source": [
        "# **Defining RL Environment**"
      ]
    },
    {
      "cell_type": "code",
      "execution_count": null,
      "id": "c8cb470e",
      "metadata": {
        "id": "c8cb470e"
      },
      "outputs": [],
      "source": [
        "import numpy as np\n",
        "import matplotlib.pyplot as plt\n",
        "import gym\n",
        "from gym import spaces"
      ]
    },
    {
      "cell_type": "code",
      "execution_count": null,
      "id": "nbUS7X_WbPFk",
      "metadata": {
        "colab": {
          "base_uri": "https://localhost:8080/",
          "height": 273
        },
        "id": "nbUS7X_WbPFk",
        "outputId": "47d6a8ee-417b-4690-c81f-44559a6494f8"
      },
      "outputs": [
        {
          "output_type": "display_data",
          "data": {
            "text/plain": [
              "<IPython.core.display.HTML object>"
            ],
            "text/html": [
              "<style>\n",
              "       table#id8, #id8 > tbody > tr > th, #id8 > tbody > tr > td {\n",
              "         border: 1px solid lightgray;\n",
              "         border-collapse:collapse;\n",
              "         \n",
              "        }</style>"
            ]
          },
          "metadata": {}
        },
        {
          "output_type": "display_data",
          "data": {
            "text/plain": [
              "<IPython.core.display.HTML object>"
            ],
            "text/html": [
              "<table id=id8><tr><td id=id8-0-0></td></tr></table>"
            ]
          },
          "metadata": {}
        },
        {
          "output_type": "display_data",
          "data": {
            "text/plain": [
              "<IPython.core.display.Javascript object>"
            ],
            "application/javascript": [
              "window[\"f1c32c9e-cffd-11ec-ba5e-0242ac1c0002\"] = google.colab.output.getActiveOutputArea();\n",
              "//# sourceURL=js_1bb80ddaa0"
            ]
          },
          "metadata": {}
        },
        {
          "output_type": "display_data",
          "data": {
            "text/plain": [
              "<IPython.core.display.Javascript object>"
            ],
            "application/javascript": [
              "window[\"f1c3c014-cffd-11ec-ba5e-0242ac1c0002\"] = document.querySelector(\"#id8-0-0\");\n",
              "//# sourceURL=js_f687adc001"
            ]
          },
          "metadata": {}
        },
        {
          "output_type": "display_data",
          "data": {
            "text/plain": [
              "<IPython.core.display.Javascript object>"
            ],
            "application/javascript": [
              "window[\"f1c46cee-cffd-11ec-ba5e-0242ac1c0002\"] = google.colab.output.setActiveOutputArea(window[\"f1c3c014-cffd-11ec-ba5e-0242ac1c0002\"]);\n",
              "//# sourceURL=js_9857081240"
            ]
          },
          "metadata": {}
        },
        {
          "output_type": "display_data",
          "data": {
            "text/plain": [
              "<IPython.core.display.Javascript object>"
            ],
            "application/javascript": [
              "window[\"f1deea74-cffd-11ec-ba5e-0242ac1c0002\"] = google.colab.output.setActiveOutputArea(window[\"f1c32c9e-cffd-11ec-ba5e-0242ac1c0002\"]);\n",
              "//# sourceURL=js_04157493ba"
            ]
          },
          "metadata": {}
        },
        {
          "output_type": "display_data",
          "data": {
            "text/plain": [
              "<IPython.core.display.Javascript object>"
            ],
            "application/javascript": [
              "window[\"f27c62b8-cffd-11ec-ba5e-0242ac1c0002\"] = google.colab.output.getActiveOutputArea();\n",
              "//# sourceURL=js_6320aa8170"
            ]
          },
          "metadata": {}
        },
        {
          "output_type": "display_data",
          "data": {
            "text/plain": [
              "<IPython.core.display.Javascript object>"
            ],
            "application/javascript": [
              "window[\"f27cbd76-cffd-11ec-ba5e-0242ac1c0002\"] = document.querySelector(\"#id8-0-0\");\n",
              "//# sourceURL=js_4bda52da96"
            ]
          },
          "metadata": {}
        },
        {
          "output_type": "display_data",
          "data": {
            "text/plain": [
              "<IPython.core.display.Javascript object>"
            ],
            "application/javascript": [
              "window[\"f27debe2-cffd-11ec-ba5e-0242ac1c0002\"] = google.colab.output.setActiveOutputArea(window[\"f27cbd76-cffd-11ec-ba5e-0242ac1c0002\"]);\n",
              "//# sourceURL=js_d2af969744"
            ]
          },
          "metadata": {}
        },
        {
          "output_type": "display_data",
          "data": {
            "text/plain": [
              "<IPython.core.display.Javascript object>"
            ],
            "application/javascript": [
              "window[\"f2996e12-cffd-11ec-ba5e-0242ac1c0002\"] = google.colab.output.setActiveOutputArea(window[\"f27c62b8-cffd-11ec-ba5e-0242ac1c0002\"]);\n",
              "//# sourceURL=js_64fcabbee1"
            ]
          },
          "metadata": {}
        },
        {
          "output_type": "display_data",
          "data": {
            "text/plain": [
              "<IPython.core.display.Javascript object>"
            ],
            "application/javascript": [
              "window[\"f335cf32-cffd-11ec-ba5e-0242ac1c0002\"] = google.colab.output.getActiveOutputArea();\n",
              "//# sourceURL=js_a7b2b2f2ad"
            ]
          },
          "metadata": {}
        },
        {
          "output_type": "display_data",
          "data": {
            "text/plain": [
              "<IPython.core.display.Javascript object>"
            ],
            "application/javascript": [
              "window[\"f3379196-cffd-11ec-ba5e-0242ac1c0002\"] = document.querySelector(\"#id8-0-0\");\n",
              "//# sourceURL=js_7dc99d08bb"
            ]
          },
          "metadata": {}
        },
        {
          "output_type": "display_data",
          "data": {
            "text/plain": [
              "<IPython.core.display.Javascript object>"
            ],
            "application/javascript": [
              "window[\"f33af264-cffd-11ec-ba5e-0242ac1c0002\"] = google.colab.output.setActiveOutputArea(window[\"f3379196-cffd-11ec-ba5e-0242ac1c0002\"]);\n",
              "//# sourceURL=js_ed6c8011d3"
            ]
          },
          "metadata": {}
        },
        {
          "output_type": "display_data",
          "data": {
            "text/plain": [
              "<IPython.core.display.Javascript object>"
            ],
            "application/javascript": [
              "window[\"f3710c5a-cffd-11ec-ba5e-0242ac1c0002\"] = google.colab.output.setActiveOutputArea(window[\"f335cf32-cffd-11ec-ba5e-0242ac1c0002\"]);\n",
              "//# sourceURL=js_982b0f7a3d"
            ]
          },
          "metadata": {}
        },
        {
          "output_type": "display_data",
          "data": {
            "text/plain": [
              "<IPython.core.display.Javascript object>"
            ],
            "application/javascript": [
              "window[\"f40fd646-cffd-11ec-ba5e-0242ac1c0002\"] = google.colab.output.getActiveOutputArea();\n",
              "//# sourceURL=js_6b11b79eaf"
            ]
          },
          "metadata": {}
        },
        {
          "output_type": "display_data",
          "data": {
            "text/plain": [
              "<IPython.core.display.Javascript object>"
            ],
            "application/javascript": [
              "window[\"f4116fa6-cffd-11ec-ba5e-0242ac1c0002\"] = document.querySelector(\"#id8-0-0\");\n",
              "//# sourceURL=js_00065b8d5d"
            ]
          },
          "metadata": {}
        },
        {
          "output_type": "display_data",
          "data": {
            "text/plain": [
              "<IPython.core.display.Javascript object>"
            ],
            "application/javascript": [
              "window[\"f412b000-cffd-11ec-ba5e-0242ac1c0002\"] = google.colab.output.setActiveOutputArea(window[\"f4116fa6-cffd-11ec-ba5e-0242ac1c0002\"]);\n",
              "//# sourceURL=js_287a3a75ff"
            ]
          },
          "metadata": {}
        },
        {
          "output_type": "display_data",
          "data": {
            "text/plain": [
              "<IPython.core.display.Javascript object>"
            ],
            "application/javascript": [
              "window[\"f4431c9a-cffd-11ec-ba5e-0242ac1c0002\"] = google.colab.output.setActiveOutputArea(window[\"f40fd646-cffd-11ec-ba5e-0242ac1c0002\"]);\n",
              "//# sourceURL=js_4a1f60b95d"
            ]
          },
          "metadata": {}
        },
        {
          "output_type": "display_data",
          "data": {
            "text/plain": [
              "<IPython.core.display.Javascript object>"
            ],
            "application/javascript": [
              "window[\"f4e1b620-cffd-11ec-ba5e-0242ac1c0002\"] = google.colab.output.getActiveOutputArea();\n",
              "//# sourceURL=js_0bd6ca30ae"
            ]
          },
          "metadata": {}
        },
        {
          "output_type": "display_data",
          "data": {
            "text/plain": [
              "<IPython.core.display.Javascript object>"
            ],
            "application/javascript": [
              "window[\"f4e23938-cffd-11ec-ba5e-0242ac1c0002\"] = document.querySelector(\"#id8-0-0\");\n",
              "//# sourceURL=js_997e47ef2c"
            ]
          },
          "metadata": {}
        },
        {
          "output_type": "display_data",
          "data": {
            "text/plain": [
              "<IPython.core.display.Javascript object>"
            ],
            "application/javascript": [
              "window[\"f4e2da28-cffd-11ec-ba5e-0242ac1c0002\"] = google.colab.output.setActiveOutputArea(window[\"f4e23938-cffd-11ec-ba5e-0242ac1c0002\"]);\n",
              "//# sourceURL=js_0ade3b9654"
            ]
          },
          "metadata": {}
        },
        {
          "output_type": "display_data",
          "data": {
            "text/plain": [
              "<Figure size 432x288 with 1 Axes>"
            ],
            "image/png": "[encoded data removed]"
          },
          "metadata": {
            "needs_background": "light"
          }
        },
        {
          "output_type": "display_data",
          "data": {
            "text/plain": [
              "<IPython.core.display.Javascript object>"
            ],
            "application/javascript": [
              "window[\"f522dee8-cffd-11ec-ba5e-0242ac1c0002\"] = google.colab.output.setActiveOutputArea(window[\"f4e1b620-cffd-11ec-ba5e-0242ac1c0002\"]);\n",
              "//# sourceURL=js_78c7be2aac"
            ]
          },
          "metadata": {}
        }
      ],
      "source": [
        "from google.colab import widgets\n",
        "import time\n",
        "\n",
        "output_grid = widgets.Grid(1, 1)\n",
        "for _ in range(5):\n",
        "  grid = np.zeros((4, 4))\n",
        "  grid[np.random.randint(4), np.random.randint(4)] = 1\n",
        "  with output_grid.output_to(0, 0):\n",
        "    output_grid.clear_cell()\n",
        "    plt.imshow(grid)\n",
        "  time.sleep(1)"
      ]
    },
    {
      "cell_type": "code",
      "execution_count": null,
      "id": "5d8c7b89",
      "metadata": {
        "colab": {
          "base_uri": "https://localhost:8080/"
        },
        "id": "5d8c7b89",
        "outputId": "3f3819f3-d0f7-4688-ebed-1d0f962407dd",
        "scrolled": true
      },
      "outputs": [
        {
          "output_type": "stream",
          "name": "stdout",
          "text": [
            "[[0. 0. 0. 0.]\n",
            " [0. 0. 0. 0.]\n",
            " [0. 0. 0. 0.]\n",
            " [0. 0. 0. 0.]]\n"
          ]
        }
      ],
      "source": [
        "grid = np.zeros((4, 4))\n",
        "print(grid)"
      ]
    },
    {
      "cell_type": "code",
      "execution_count": null,
      "id": "4a4bdf56",
      "metadata": {
        "colab": {
          "base_uri": "https://localhost:8080/"
        },
        "id": "4a4bdf56",
        "outputId": "b088dcad-039a-4d23-8f0b-ee10bf3ccb0e"
      },
      "outputs": [
        {
          "output_type": "stream",
          "name": "stdout",
          "text": [
            "[[0.  0.  0.3 0.5]\n",
            " [0.  0.  0.3 0. ]\n",
            " [0.6 0.  0.  0.6]\n",
            " [1.  0.  0.  0. ]]\n"
          ]
        }
      ],
      "source": [
        "pos1 = [3, 0]\n",
        "pos2 = [0, 3]\n",
        "pos3 = [1,2]\n",
        "pos4 = [0,2]\n",
        "pos5 = [2,3]\n",
        "pos6 = [2,0]\n",
        "\n",
        "\n",
        "grid[tuple(pos1)] = 1\n",
        "grid[tuple(pos2)] = 0.5\n",
        "grid[tuple(pos3)] = 0.3\n",
        "grid[tuple(pos4)] = 0.3\n",
        "grid[tuple(pos5)] = 0.6\n",
        "grid[tuple(pos6)] = 0.6\n",
        "\n",
        "\n",
        "\n",
        "print(grid)"
      ]
    },
    {
      "cell_type": "code",
      "execution_count": null,
      "id": "e1ac054a",
      "metadata": {
        "colab": {
          "base_uri": "https://localhost:8080/",
          "height": 286
        },
        "id": "e1ac054a",
        "outputId": "0809549f-3e6d-4439-c390-678f3a004405"
      },
      "outputs": [
        {
          "output_type": "execute_result",
          "data": {
            "text/plain": [
              "<matplotlib.image.AxesImage at 0x7f0756c9a250>"
            ]
          },
          "metadata": {},
          "execution_count": 28
        },
        {
          "output_type": "display_data",
          "data": {
            "text/plain": [
              "<Figure size 432x288 with 1 Axes>"
            ],
            "image/png": "[encoded data removed]"
          },
          "metadata": {
            "needs_background": "light"
          }
        }
      ],
      "source": [
        "plt.imshow(grid)"
      ]
    },
    {
      "cell_type": "code",
      "execution_count": null,
      "id": "6492e744",
      "metadata": {
        "id": "6492e744"
      },
      "outputs": [],
      "source": [
        "class GridEnvironment(gym.Env):\n",
        "  metadata = { 'render.modes': []}\n",
        "\n",
        "  def __init__(self):\n",
        "    self.observation_space = spaces.Discrete(16)\n",
        "    self.action_space = spaces.Discrete(4)\n",
        "    self.max_timesteps = 10\n",
        "\n",
        "  def reset(self):\n",
        "    self.timestep = 0\n",
        "    self.agent_pos = [3, 0]\n",
        "    self.goal_pos = [0, 3]\n",
        "    self.state = np.zeros((4, 4))\n",
        "    self.state[tuple(self.agent_pos)] = 1\n",
        "    self.state[tuple(self.goal_pos)] = 0.5\n",
        "    self.state[tuple(pos3)] = 0.3\n",
        "    self.state[tuple(pos4)] = 0.3\n",
        "    self.state[tuple(pos5)] = 0.6\n",
        "    self.state[tuple(pos6)] = 0.6\n",
        "\n",
        "    observation = self.state.flatten()\n",
        "    return observation\n",
        "\n",
        "  def step(self, action):\n",
        "    self.state = np.random.choice(self.observation_space.n)\n",
        "    if action == 0:\n",
        "      self.agent_pos[0] += 1\n",
        "    if action == 1:\n",
        "      self.agent_pos[0] -= 1\n",
        "    if action == 2:\n",
        "      self.agent_pos[1] += 1\n",
        "    if action == 3:\n",
        "      self.agent_pos[1] -= 1\n",
        "    \n",
        "    self.agent_pos = np.clip(self.agent_pos, 0, 2)\n",
        "    self.state = np.zeros((4,4))\n",
        "    self.state[tuple(self.agent_pos)] = 1\n",
        "    self.state[tuple(self.goal_pos)] = 0.5\n",
        "    observation = self.state.flatten()\n",
        "\n",
        "    reward = 0\n",
        "    if (self.agent_pos == self.goal_pos).all():\n",
        "      reward = 6\n",
        "    elif (self.agent_pos == (0,2)).all():\n",
        "      reward = 4\n",
        "    elif (self.agent_pos == (1,2)).all():\n",
        "      reward = 2\n",
        "    elif (self.agent_pos == (2,3)).all():\n",
        "      reward = -4\n",
        "    elif (self.agent_pos == (2,0)).all():\n",
        "      reward = -2\n",
        "\n",
        "    self.timestep += 1\n",
        "    done = True if self.timestep >= self.max_timesteps else False\n",
        "    info = {}\n",
        "\n",
        "    return observation, reward, done, info\n",
        "\n",
        "  def render(self):\n",
        "    plt.imshow(self.state)"
      ]
    },
    {
      "cell_type": "code",
      "execution_count": null,
      "id": "3798b098",
      "metadata": {
        "colab": {
          "base_uri": "https://localhost:8080/",
          "height": 269
        },
        "id": "3798b098",
        "outputId": "db1402ab-2d7a-40b3-88e7-70b4f3649a15"
      },
      "outputs": [
        {
          "output_type": "display_data",
          "data": {
            "text/plain": [
              "<Figure size 432x288 with 1 Axes>"
            ],
            "image/png": "[encoded data removed]"
          },
          "metadata": {
            "needs_background": "light"
          }
        }
      ],
      "source": [
        "env = GridEnvironment()\n",
        "obs = env.reset()\n",
        "env.render()"
      ]
    },
    {
      "cell_type": "code",
      "execution_count": null,
      "id": "d9a4e033",
      "metadata": {
        "id": "d9a4e033"
      },
      "outputs": [],
      "source": [
        "class RandomAgent:\n",
        "  def __init__(self, env):\n",
        "    self.env = env\n",
        "    self.observation_space = env.observation_space\n",
        "    self.action_space = env.action_space\n",
        "\n",
        "  def step(self, observation):\n",
        "    n=10\n",
        "    return np.random.choice(self.action_space.n)"
      ]
    },
    {
      "cell_type": "markdown",
      "id": "Lm0EiDL4g0wM",
      "metadata": {
        "id": "Lm0EiDL4g0wM"
      },
      "source": [
        "# **Timesteps**"
      ]
    },
    {
      "cell_type": "code",
      "execution_count": null,
      "id": "06da96b9",
      "metadata": {
        "colab": {
          "base_uri": "https://localhost:8080/",
          "height": 1000
        },
        "id": "06da96b9",
        "outputId": "3affcca9-63c7-4e01-8c8a-13c583187f94"
      },
      "outputs": [
        {
          "output_type": "display_data",
          "data": {
            "text/plain": [
              "<IPython.core.display.HTML object>"
            ],
            "text/html": [
              "<style>\n",
              "       table#id20, #id20 > tbody > tr > th, #id20 > tbody > tr > td {\n",
              "         border: 1px solid lightgray;\n",
              "         border-collapse:collapse;\n",
              "         \n",
              "        }</style>"
            ]
          },
          "metadata": {}
        },
        {
          "output_type": "display_data",
          "data": {
            "text/plain": [
              "<IPython.core.display.HTML object>"
            ],
            "text/html": [
              "<table id=id20><tr><td id=id20-0-0></td></tr></table>"
            ]
          },
          "metadata": {}
        },
        {
          "output_type": "display_data",
          "data": {
            "text/plain": [
              "<IPython.core.display.Javascript object>"
            ],
            "application/javascript": [
              "window[\"3a18dda8-cfff-11ec-ba5e-0242ac1c0002\"] = google.colab.output.getActiveOutputArea();\n",
              "//# sourceURL=js_17b829dba0"
            ]
          },
          "metadata": {}
        },
        {
          "output_type": "display_data",
          "data": {
            "text/plain": [
              "<IPython.core.display.Javascript object>"
            ],
            "application/javascript": [
              "window[\"3a1949e6-cfff-11ec-ba5e-0242ac1c0002\"] = document.querySelector(\"#id20-0-0\");\n",
              "//# sourceURL=js_6e6454caa9"
            ]
          },
          "metadata": {}
        },
        {
          "output_type": "display_data",
          "data": {
            "text/plain": [
              "<IPython.core.display.Javascript object>"
            ],
            "application/javascript": [
              "window[\"3a19ad50-cfff-11ec-ba5e-0242ac1c0002\"] = google.colab.output.setActiveOutputArea(window[\"3a1949e6-cfff-11ec-ba5e-0242ac1c0002\"]);\n",
              "//# sourceURL=js_f0556cb599"
            ]
          },
          "metadata": {}
        },
        {
          "output_type": "display_data",
          "data": {
            "text/plain": [
              "<IPython.core.display.Javascript object>"
            ],
            "application/javascript": [
              "window[\"3a3417ee-cfff-11ec-ba5e-0242ac1c0002\"] = google.colab.output.setActiveOutputArea(window[\"3a18dda8-cfff-11ec-ba5e-0242ac1c0002\"]);\n",
              "//# sourceURL=js_0b33b2acb5"
            ]
          },
          "metadata": {}
        },
        {
          "output_type": "stream",
          "name": "stdout",
          "text": [
            "State\n",
            " [0.  0.  0.  0.5 0.  0.  0.  0.  0.  1.  0.  0.  0.  0.  0.  0. ] \n",
            "Action 2 \n",
            "Reward 0\n"
          ]
        },
        {
          "output_type": "display_data",
          "data": {
            "text/plain": [
              "<Figure size 432x288 with 1 Axes>"
            ],
            "image/png": "[encoded data removed]"
          },
          "metadata": {
            "needs_background": "light"
          }
        },
        {
          "output_type": "display_data",
          "data": {
            "text/plain": [
              "<IPython.core.display.Javascript object>"
            ],
            "application/javascript": [
              "window[\"3a507cb8-cfff-11ec-ba5e-0242ac1c0002\"] = google.colab.output.getActiveOutputArea();\n",
              "//# sourceURL=js_c62f10c72d"
            ]
          },
          "metadata": {}
        },
        {
          "output_type": "display_data",
          "data": {
            "text/plain": [
              "<IPython.core.display.Javascript object>"
            ],
            "application/javascript": [
              "window[\"3a514058-cfff-11ec-ba5e-0242ac1c0002\"] = document.querySelector(\"#id20-0-0\");\n",
              "//# sourceURL=js_940ebc1bb5"
            ]
          },
          "metadata": {}
        },
        {
          "output_type": "display_data",
          "data": {
            "text/plain": [
              "<IPython.core.display.Javascript object>"
            ],
            "application/javascript": [
              "window[\"3a51f5a2-cfff-11ec-ba5e-0242ac1c0002\"] = google.colab.output.setActiveOutputArea(window[\"3a514058-cfff-11ec-ba5e-0242ac1c0002\"]);\n",
              "//# sourceURL=js_a8927e4551"
            ]
          },
          "metadata": {}
        },
        {
          "output_type": "display_data",
          "data": {
            "text/plain": [
              "<IPython.core.display.Javascript object>"
            ],
            "application/javascript": [
              "window[\"3a693668-cfff-11ec-ba5e-0242ac1c0002\"] = google.colab.output.setActiveOutputArea(window[\"3a507cb8-cfff-11ec-ba5e-0242ac1c0002\"]);\n",
              "//# sourceURL=js_b72d92962d"
            ]
          },
          "metadata": {}
        },
        {
          "output_type": "stream",
          "name": "stdout",
          "text": [
            "State\n",
            " [0.  0.  0.  0.5 0.  1.  0.  0.  0.  0.  0.  0.  0.  0.  0.  0. ] \n",
            "Action 1 \n",
            "Reward 0\n"
          ]
        },
        {
          "output_type": "display_data",
          "data": {
            "text/plain": [
              "<Figure size 432x288 with 1 Axes>"
            ],
            "image/png": "[encoded data removed]"
          },
          "metadata": {
            "needs_background": "light"
          }
        },
        {
          "output_type": "display_data",
          "data": {
            "text/plain": [
              "<IPython.core.display.Javascript object>"
            ],
            "application/javascript": [
              "window[\"3b191fe2-cfff-11ec-ba5e-0242ac1c0002\"] = google.colab.output.getActiveOutputArea();\n",
              "//# sourceURL=js_b23a11917a"
            ]
          },
          "metadata": {}
        },
        {
          "output_type": "display_data",
          "data": {
            "text/plain": [
              "<IPython.core.display.Javascript object>"
            ],
            "application/javascript": [
              "window[\"3b19976a-cfff-11ec-ba5e-0242ac1c0002\"] = document.querySelector(\"#id20-0-0\");\n",
              "//# sourceURL=js_5328e2d88d"
            ]
          },
          "metadata": {}
        },
        {
          "output_type": "display_data",
          "data": {
            "text/plain": [
              "<IPython.core.display.Javascript object>"
            ],
            "application/javascript": [
              "window[\"3b1a09fc-cfff-11ec-ba5e-0242ac1c0002\"] = google.colab.output.setActiveOutputArea(window[\"3b19976a-cfff-11ec-ba5e-0242ac1c0002\"]);\n",
              "//# sourceURL=js_f555a15782"
            ]
          },
          "metadata": {}
        },
        {
          "output_type": "display_data",
          "data": {
            "text/plain": [
              "<IPython.core.display.Javascript object>"
            ],
            "application/javascript": [
              "window[\"3b3166ce-cfff-11ec-ba5e-0242ac1c0002\"] = google.colab.output.setActiveOutputArea(window[\"3b191fe2-cfff-11ec-ba5e-0242ac1c0002\"]);\n",
              "//# sourceURL=js_03812f8f62"
            ]
          },
          "metadata": {}
        },
        {
          "output_type": "stream",
          "name": "stdout",
          "text": [
            "State\n",
            " [0.  0.  0.  0.5 0.  0.  0.  0.  0.  1.  0.  0.  0.  0.  0.  0. ] \n",
            "Action 0 \n",
            "Reward 0\n"
          ]
        },
        {
          "output_type": "display_data",
          "data": {
            "text/plain": [
              "<Figure size 432x288 with 1 Axes>"
            ],
            "image/png": "[encoded data removed]"
          },
          "metadata": {
            "needs_background": "light"
          }
        },
        {
          "output_type": "display_data",
          "data": {
            "text/plain": [
              "<IPython.core.display.Javascript object>"
            ],
            "application/javascript": [
              "window[\"3be3834a-cfff-11ec-ba5e-0242ac1c0002\"] = google.colab.output.getActiveOutputArea();\n",
              "//# sourceURL=js_442cfeebf9"
            ]
          },
          "metadata": {}
        },
        {
          "output_type": "display_data",
          "data": {
            "text/plain": [
              "<IPython.core.display.Javascript object>"
            ],
            "application/javascript": [
              "window[\"3be45694-cfff-11ec-ba5e-0242ac1c0002\"] = document.querySelector(\"#id20-0-0\");\n",
              "//# sourceURL=js_4e99a1884f"
            ]
          },
          "metadata": {}
        },
        {
          "output_type": "display_data",
          "data": {
            "text/plain": [
              "<IPython.core.display.Javascript object>"
            ],
            "application/javascript": [
              "window[\"3be52b00-cfff-11ec-ba5e-0242ac1c0002\"] = google.colab.output.setActiveOutputArea(window[\"3be45694-cfff-11ec-ba5e-0242ac1c0002\"]);\n",
              "//# sourceURL=js_aea17cc95c"
            ]
          },
          "metadata": {}
        },
        {
          "output_type": "display_data",
          "data": {
            "text/plain": [
              "<IPython.core.display.Javascript object>"
            ],
            "application/javascript": [
              "window[\"3c006352-cfff-11ec-ba5e-0242ac1c0002\"] = google.colab.output.setActiveOutputArea(window[\"3be3834a-cfff-11ec-ba5e-0242ac1c0002\"]);\n",
              "//# sourceURL=js_dca081185a"
            ]
          },
          "metadata": {}
        },
        {
          "output_type": "stream",
          "name": "stdout",
          "text": [
            "State\n",
            " [0.  0.  0.  0.5 0.  1.  0.  0.  0.  0.  0.  0.  0.  0.  0.  0. ] \n",
            "Action 1 \n",
            "Reward 0\n"
          ]
        },
        {
          "output_type": "display_data",
          "data": {
            "text/plain": [
              "<Figure size 432x288 with 1 Axes>"
            ],
            "image/png": "[encoded data removed]"
          },
          "metadata": {
            "needs_background": "light"
          }
        },
        {
          "output_type": "display_data",
          "data": {
            "text/plain": [
              "<IPython.core.display.Javascript object>"
            ],
            "application/javascript": [
              "window[\"3cb36f9c-cfff-11ec-ba5e-0242ac1c0002\"] = google.colab.output.getActiveOutputArea();\n",
              "//# sourceURL=js_f55700911e"
            ]
          },
          "metadata": {}
        },
        {
          "output_type": "display_data",
          "data": {
            "text/plain": [
              "<IPython.core.display.Javascript object>"
            ],
            "application/javascript": [
              "window[\"3cb3da5e-cfff-11ec-ba5e-0242ac1c0002\"] = document.querySelector(\"#id20-0-0\");\n",
              "//# sourceURL=js_0e2927705f"
            ]
          },
          "metadata": {}
        },
        {
          "output_type": "display_data",
          "data": {
            "text/plain": [
              "<IPython.core.display.Javascript object>"
            ],
            "application/javascript": [
              "window[\"3cb44764-cfff-11ec-ba5e-0242ac1c0002\"] = google.colab.output.setActiveOutputArea(window[\"3cb3da5e-cfff-11ec-ba5e-0242ac1c0002\"]);\n",
              "//# sourceURL=js_828b3dfd4a"
            ]
          },
          "metadata": {}
        },
        {
          "output_type": "display_data",
          "data": {
            "text/plain": [
              "<IPython.core.display.Javascript object>"
            ],
            "application/javascript": [
              "window[\"3ccf20f2-cfff-11ec-ba5e-0242ac1c0002\"] = google.colab.output.setActiveOutputArea(window[\"3cb36f9c-cfff-11ec-ba5e-0242ac1c0002\"]);\n",
              "//# sourceURL=js_30a56c87f8"
            ]
          },
          "metadata": {}
        },
        {
          "output_type": "stream",
          "name": "stdout",
          "text": [
            "State\n",
            " [0.  1.  0.  0.5 0.  0.  0.  0.  0.  0.  0.  0.  0.  0.  0.  0. ] \n",
            "Action 1 \n",
            "Reward 0\n"
          ]
        },
        {
          "output_type": "display_data",
          "data": {
            "text/plain": [
              "<Figure size 432x288 with 1 Axes>"
            ],
            "image/png": "[encoded data removed]"
          },
          "metadata": {
            "needs_background": "light"
          }
        },
        {
          "output_type": "display_data",
          "data": {
            "text/plain": [
              "<IPython.core.display.Javascript object>"
            ],
            "application/javascript": [
              "window[\"3d7eed84-cfff-11ec-ba5e-0242ac1c0002\"] = google.colab.output.getActiveOutputArea();\n",
              "//# sourceURL=js_79e779e1d4"
            ]
          },
          "metadata": {}
        },
        {
          "output_type": "display_data",
          "data": {
            "text/plain": [
              "<IPython.core.display.Javascript object>"
            ],
            "application/javascript": [
              "window[\"3d7f7f06-cfff-11ec-ba5e-0242ac1c0002\"] = document.querySelector(\"#id20-0-0\");\n",
              "//# sourceURL=js_09cccb5851"
            ]
          },
          "metadata": {}
        },
        {
          "output_type": "display_data",
          "data": {
            "text/plain": [
              "<IPython.core.display.Javascript object>"
            ],
            "application/javascript": [
              "window[\"3d7ffc4c-cfff-11ec-ba5e-0242ac1c0002\"] = google.colab.output.setActiveOutputArea(window[\"3d7f7f06-cfff-11ec-ba5e-0242ac1c0002\"]);\n",
              "//# sourceURL=js_678fbc567e"
            ]
          },
          "metadata": {}
        },
        {
          "output_type": "display_data",
          "data": {
            "text/plain": [
              "<IPython.core.display.Javascript object>"
            ],
            "application/javascript": [
              "window[\"3da40efc-cfff-11ec-ba5e-0242ac1c0002\"] = google.colab.output.setActiveOutputArea(window[\"3d7eed84-cfff-11ec-ba5e-0242ac1c0002\"]);\n",
              "//# sourceURL=js_f7e7742dee"
            ]
          },
          "metadata": {}
        },
        {
          "output_type": "stream",
          "name": "stdout",
          "text": [
            "State\n",
            " [0.  1.  0.  0.5 0.  0.  0.  0.  0.  0.  0.  0.  0.  0.  0.  0. ] \n",
            "Action 1 \n",
            "Reward 0\n"
          ]
        },
        {
          "output_type": "display_data",
          "data": {
            "text/plain": [
              "<Figure size 432x288 with 1 Axes>"
            ],
            "image/png": "[encoded data removed]"
          },
          "metadata": {
            "needs_background": "light"
          }
        },
        {
          "output_type": "display_data",
          "data": {
            "text/plain": [
              "<IPython.core.display.Javascript object>"
            ],
            "application/javascript": [
              "window[\"3e637b02-cfff-11ec-ba5e-0242ac1c0002\"] = google.colab.output.getActiveOutputArea();\n",
              "//# sourceURL=js_e71773a55d"
            ]
          },
          "metadata": {}
        },
        {
          "output_type": "display_data",
          "data": {
            "text/plain": [
              "<IPython.core.display.Javascript object>"
            ],
            "application/javascript": [
              "window[\"3e645a4a-cfff-11ec-ba5e-0242ac1c0002\"] = document.querySelector(\"#id20-0-0\");\n",
              "//# sourceURL=js_347b762faf"
            ]
          },
          "metadata": {}
        },
        {
          "output_type": "display_data",
          "data": {
            "text/plain": [
              "<IPython.core.display.Javascript object>"
            ],
            "application/javascript": [
              "window[\"3e657b46-cfff-11ec-ba5e-0242ac1c0002\"] = google.colab.output.setActiveOutputArea(window[\"3e645a4a-cfff-11ec-ba5e-0242ac1c0002\"]);\n",
              "//# sourceURL=js_24f1f0c1b2"
            ]
          },
          "metadata": {}
        },
        {
          "output_type": "display_data",
          "data": {
            "text/plain": [
              "<IPython.core.display.Javascript object>"
            ],
            "application/javascript": [
              "window[\"3ea429fe-cfff-11ec-ba5e-0242ac1c0002\"] = google.colab.output.setActiveOutputArea(window[\"3e637b02-cfff-11ec-ba5e-0242ac1c0002\"]);\n",
              "//# sourceURL=js_1d240a819e"
            ]
          },
          "metadata": {}
        },
        {
          "output_type": "stream",
          "name": "stdout",
          "text": [
            "State\n",
            " [0.  1.  0.  0.5 0.  0.  0.  0.  0.  0.  0.  0.  0.  0.  0.  0. ] \n",
            "Action 1 \n",
            "Reward 0\n"
          ]
        },
        {
          "output_type": "display_data",
          "data": {
            "text/plain": [
              "<Figure size 432x288 with 1 Axes>"
            ],
            "image/png": "[encoded data removed]"
          },
          "metadata": {
            "needs_background": "light"
          }
        },
        {
          "output_type": "display_data",
          "data": {
            "text/plain": [
              "<IPython.core.display.Javascript object>"
            ],
            "application/javascript": [
              "window[\"3f591058-cfff-11ec-ba5e-0242ac1c0002\"] = google.colab.output.getActiveOutputArea();\n",
              "//# sourceURL=js_c46beeefb5"
            ]
          },
          "metadata": {}
        },
        {
          "output_type": "display_data",
          "data": {
            "text/plain": [
              "<IPython.core.display.Javascript object>"
            ],
            "application/javascript": [
              "window[\"3f5a0292-cfff-11ec-ba5e-0242ac1c0002\"] = document.querySelector(\"#id20-0-0\");\n",
              "//# sourceURL=js_f309473144"
            ]
          },
          "metadata": {}
        },
        {
          "output_type": "display_data",
          "data": {
            "text/plain": [
              "<IPython.core.display.Javascript object>"
            ],
            "application/javascript": [
              "window[\"3f5bfcfa-cfff-11ec-ba5e-0242ac1c0002\"] = google.colab.output.setActiveOutputArea(window[\"3f5a0292-cfff-11ec-ba5e-0242ac1c0002\"]);\n",
              "//# sourceURL=js_0253d52feb"
            ]
          },
          "metadata": {}
        },
        {
          "output_type": "display_data",
          "data": {
            "text/plain": [
              "<IPython.core.display.Javascript object>"
            ],
            "application/javascript": [
              "window[\"3f78c48e-cfff-11ec-ba5e-0242ac1c0002\"] = google.colab.output.setActiveOutputArea(window[\"3f591058-cfff-11ec-ba5e-0242ac1c0002\"]);\n",
              "//# sourceURL=js_a04ab6b0a9"
            ]
          },
          "metadata": {}
        },
        {
          "output_type": "stream",
          "name": "stdout",
          "text": [
            "State\n",
            " [0.  0.  1.  0.5 0.  0.  0.  0.  0.  0.  0.  0.  0.  0.  0.  0. ] \n",
            "Action 2 \n",
            "Reward 4\n"
          ]
        },
        {
          "output_type": "display_data",
          "data": {
            "text/plain": [
              "<Figure size 432x288 with 1 Axes>"
            ],
            "image/png": "[encoded data removed]"
          },
          "metadata": {
            "needs_background": "light"
          }
        },
        {
          "output_type": "display_data",
          "data": {
            "text/plain": [
              "<IPython.core.display.Javascript object>"
            ],
            "application/javascript": [
              "window[\"402c47ac-cfff-11ec-ba5e-0242ac1c0002\"] = google.colab.output.getActiveOutputArea();\n",
              "//# sourceURL=js_88a42a0c51"
            ]
          },
          "metadata": {}
        },
        {
          "output_type": "display_data",
          "data": {
            "text/plain": [
              "<IPython.core.display.Javascript object>"
            ],
            "application/javascript": [
              "window[\"402ce5fe-cfff-11ec-ba5e-0242ac1c0002\"] = document.querySelector(\"#id20-0-0\");\n",
              "//# sourceURL=js_c19d25c693"
            ]
          },
          "metadata": {}
        },
        {
          "output_type": "display_data",
          "data": {
            "text/plain": [
              "<IPython.core.display.Javascript object>"
            ],
            "application/javascript": [
              "window[\"402d5318-cfff-11ec-ba5e-0242ac1c0002\"] = google.colab.output.setActiveOutputArea(window[\"402ce5fe-cfff-11ec-ba5e-0242ac1c0002\"]);\n",
              "//# sourceURL=js_2d4602512a"
            ]
          },
          "metadata": {}
        },
        {
          "output_type": "display_data",
          "data": {
            "text/plain": [
              "<IPython.core.display.Javascript object>"
            ],
            "application/javascript": [
              "window[\"404748fe-cfff-11ec-ba5e-0242ac1c0002\"] = google.colab.output.setActiveOutputArea(window[\"402c47ac-cfff-11ec-ba5e-0242ac1c0002\"]);\n",
              "//# sourceURL=js_cc8801e002"
            ]
          },
          "metadata": {}
        },
        {
          "output_type": "stream",
          "name": "stdout",
          "text": [
            "State\n",
            " [0.  0.  1.  0.5 0.  0.  0.  0.  0.  0.  0.  0.  0.  0.  0.  0. ] \n",
            "Action 2 \n",
            "Reward 4\n"
          ]
        },
        {
          "output_type": "display_data",
          "data": {
            "text/plain": [
              "<Figure size 432x288 with 1 Axes>"
            ],
            "image/png": "[encoded data removed]"
          },
          "metadata": {
            "needs_background": "light"
          }
        },
        {
          "output_type": "display_data",
          "data": {
            "text/plain": [
              "<IPython.core.display.Javascript object>"
            ],
            "application/javascript": [
              "window[\"40f7a5e6-cfff-11ec-ba5e-0242ac1c0002\"] = google.colab.output.getActiveOutputArea();\n",
              "//# sourceURL=js_e90d99db36"
            ]
          },
          "metadata": {}
        },
        {
          "output_type": "display_data",
          "data": {
            "text/plain": [
              "<IPython.core.display.Javascript object>"
            ],
            "application/javascript": [
              "window[\"40f805ae-cfff-11ec-ba5e-0242ac1c0002\"] = document.querySelector(\"#id20-0-0\");\n",
              "//# sourceURL=js_9ea8807f29"
            ]
          },
          "metadata": {}
        },
        {
          "output_type": "display_data",
          "data": {
            "text/plain": [
              "<IPython.core.display.Javascript object>"
            ],
            "application/javascript": [
              "window[\"40f86292-cfff-11ec-ba5e-0242ac1c0002\"] = google.colab.output.setActiveOutputArea(window[\"40f805ae-cfff-11ec-ba5e-0242ac1c0002\"]);\n",
              "//# sourceURL=js_2f48e69a0c"
            ]
          },
          "metadata": {}
        },
        {
          "output_type": "display_data",
          "data": {
            "text/plain": [
              "<IPython.core.display.Javascript object>"
            ],
            "application/javascript": [
              "window[\"411046aa-cfff-11ec-ba5e-0242ac1c0002\"] = google.colab.output.setActiveOutputArea(window[\"40f7a5e6-cfff-11ec-ba5e-0242ac1c0002\"]);\n",
              "//# sourceURL=js_f96d80c9e4"
            ]
          },
          "metadata": {}
        },
        {
          "output_type": "stream",
          "name": "stdout",
          "text": [
            "State\n",
            " [0.  1.  0.  0.5 0.  0.  0.  0.  0.  0.  0.  0.  0.  0.  0.  0. ] \n",
            "Action 3 \n",
            "Reward 0\n"
          ]
        },
        {
          "output_type": "display_data",
          "data": {
            "text/plain": [
              "<Figure size 432x288 with 1 Axes>"
            ],
            "image/png": "[encoded data removed]"
          },
          "metadata": {
            "needs_background": "light"
          }
        },
        {
          "output_type": "display_data",
          "data": {
            "text/plain": [
              "<IPython.core.display.Javascript object>"
            ],
            "application/javascript": [
              "window[\"41c2323e-cfff-11ec-ba5e-0242ac1c0002\"] = google.colab.output.getActiveOutputArea();\n",
              "//# sourceURL=js_af341f2209"
            ]
          },
          "metadata": {}
        },
        {
          "output_type": "display_data",
          "data": {
            "text/plain": [
              "<IPython.core.display.Javascript object>"
            ],
            "application/javascript": [
              "window[\"41c2a728-cfff-11ec-ba5e-0242ac1c0002\"] = document.querySelector(\"#id20-0-0\");\n",
              "//# sourceURL=js_42576ecafa"
            ]
          },
          "metadata": {}
        },
        {
          "output_type": "display_data",
          "data": {
            "text/plain": [
              "<IPython.core.display.Javascript object>"
            ],
            "application/javascript": [
              "window[\"41c30362-cfff-11ec-ba5e-0242ac1c0002\"] = google.colab.output.setActiveOutputArea(window[\"41c2a728-cfff-11ec-ba5e-0242ac1c0002\"]);\n",
              "//# sourceURL=js_102b9ee936"
            ]
          },
          "metadata": {}
        },
        {
          "output_type": "display_data",
          "data": {
            "text/plain": [
              "<Figure size 432x288 with 1 Axes>"
            ],
            "image/png": "[encoded data removed]"
          },
          "metadata": {
            "needs_background": "light"
          }
        },
        {
          "output_type": "display_data",
          "data": {
            "text/plain": [
              "<IPython.core.display.Javascript object>"
            ],
            "application/javascript": [
              "window[\"41db1baa-cfff-11ec-ba5e-0242ac1c0002\"] = google.colab.output.setActiveOutputArea(window[\"41c2323e-cfff-11ec-ba5e-0242ac1c0002\"]);\n",
              "//# sourceURL=js_d3a43b5dd2"
            ]
          },
          "metadata": {}
        }
      ],
      "source": [
        "env = GridEnvironment()\n",
        "agent = RandomAgent(env)\n",
        "\n",
        "obs = env.reset()\n",
        "done = False\n",
        "\n",
        "output_grid = widgets.Grid(1, 1)\n",
        "with output_grid.output_to(0, 0):\n",
        "  env.render()\n",
        "\n",
        "for i in range(0,11):\n",
        "  while not done:\n",
        "    action = agent.step(obs)\n",
        "    obs, reward, done, info = env.step(action)\n",
        "    print(\"State\\n\",obs,\"\\nAction\",action, \"\\nReward\",reward)\n",
        "    env.render()\n",
        "    with output_grid.output_to(0, 0):\n",
        "      output_grid.clear_cell()\n",
        "      env.render()\n",
        "    time.sleep(1)"
      ]
    }
  ],
  "metadata": {
    "colab": {
      "collapsed_sections": [],
      "name": "vikramse_vshanmug_assignment4_part_1_Final.ipynb",
      "provenance": []
    },
    "kernelspec": {
      "display_name": "Python 3 (ipykernel)",
      "language": "python",
      "name": "python3"
    },
    "language_info": {
      "codemirror_mode": {
        "name": "ipython",
        "version": 3
      },
      "file_extension": ".py",
      "mimetype": "text/x-python",
      "name": "python",
      "nbconvert_exporter": "python",
      "pygments_lexer": "ipython3",
      "version": "3.9.7"
    }
  },
  "nbformat": 4,
  "nbformat_minor": 5
}